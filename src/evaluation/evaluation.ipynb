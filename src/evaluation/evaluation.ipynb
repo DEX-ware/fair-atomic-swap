{
 "cells": [
  {
   "cell_type": "code",
   "execution_count": 37,
   "metadata": {},
   "outputs": [],
   "source": [
    "import numpy as np\n",
    "import math as m\n",
    "import pandas as pd\n",
    "from datetime import datetime\n",
    "from pathlib import Path\n",
    "from parse import parse\n",
    "import matplotlib\n",
    "from matplotlib import pyplot as plt\n",
    "from crr_model import price\n",
    "from matplotlib.ticker import PercentFormatter\n",
    "from matplotlib.patches import Rectangle\n"
   ]
  },
  {
   "cell_type": "code",
   "execution_count": 3,
   "metadata": {},
   "outputs": [],
   "source": [
    "# Configure the matplotlib\n",
    "from matplotlib import rc\n",
    "\n",
    "# Set the global font to be DejaVu Sans, size 10 (or any other sans-serif font of your choice!)\n",
    "rc('font',**{'family':'sans-serif','sans-serif':['DejaVu Sans'],'size':10})\n",
    "\n",
    "# Set the font used for MathJax - more on this later\n",
    "rc('mathtext',**{'default':'regular'})\n",
    "\n",
    "%matplotlib inline\n",
    "\n",
    "# The following %config line changes the inline figures to have a higher DPI.\n",
    "# You can comment out (#) this line if you don't have a high-DPI (~220) display.\n",
    "%config InlineBackend.figure_format = 'retina'"
   ]
  },
  {
   "cell_type": "markdown",
   "metadata": {},
   "source": [
    "## Cox-Ross-Rubinstein Model\n",
    "\n",
    "CRR Model is to price the premium of American Options."
   ]
  },
  {
   "cell_type": "code",
   "execution_count": 4,
   "metadata": {},
   "outputs": [
    {
     "name": "stdout",
     "output_type": "stream",
     "text": [
      "Asset Prices:\n",
      " [[100 105 111 117 124 131 138 146 154 162 172 181 191 202 213 225 238 251]\n",
      " [  0  94 100 105 111 117 124 131 138 146 154 162 172 181 191 202 213 225]\n",
      " [  0   0  89  94 100 105 111 117 124 131 138 146 154 162 172 181 191 202]\n",
      " [  0   0   0  84  89  94 100 105 111 117 124 131 138 146 154 162 172 181]\n",
      " [  0   0   0   0  80  84  89  94 100 105 111 117 124 131 138 146 154 162]\n",
      " [  0   0   0   0   0  76  80  84  89  94 100 105 111 117 124 131 138 146]\n",
      " [  0   0   0   0   0   0  72  76  80  84  89  94 100 105 111 117 124 131]\n",
      " [  0   0   0   0   0   0   0  68  72  76  80  84  89  94 100 105 111 117]\n",
      " [  0   0   0   0   0   0   0   0  64  68  72  76  80  84  89  94 100 105]\n",
      " [  0   0   0   0   0   0   0   0   0  61  64  68  72  76  80  84  89  94]\n",
      " [  0   0   0   0   0   0   0   0   0   0  58  61  64  68  72  76  80  84]\n",
      " [  0   0   0   0   0   0   0   0   0   0   0  55  58  61  64  68  72  76]\n",
      " [  0   0   0   0   0   0   0   0   0   0   0   0  52  55  58  61  64  68]\n",
      " [  0   0   0   0   0   0   0   0   0   0   0   0   0  49  52  55  58  61]\n",
      " [  0   0   0   0   0   0   0   0   0   0   0   0   0   0  46  49  52  55]\n",
      " [  0   0   0   0   0   0   0   0   0   0   0   0   0   0   0  44  46  49]\n",
      " [  0   0   0   0   0   0   0   0   0   0   0   0   0   0   0   0  41  44]\n",
      " [  0   0   0   0   0   0   0   0   0   0   0   0   0   0   0   0   0  39]]\n",
      "Option Prices:\n",
      " [[  6   9  12  16  20  26  32  39  46  55  64  73  84  95 108 121 135 151]\n",
      " [  0   4   6   9  12  16  21  26  33  40  48  56  66  76  87  99 111 125]\n",
      " [  0   0   3   4   6   8  12  16  21  27  34  41  49  58  68  78  90 102]\n",
      " [  0   0   0   1   2   4   6   8  12  16  21  28  35  43  51  60  70  81]\n",
      " [  0   0   0   0   0   1   2   3   5   8  12  16  22  29  36  44  53  62]\n",
      " [  0   0   0   0   0   0   0   1   2   3   5   8  11  16  23  30  37  46]\n",
      " [  0   0   0   0   0   0   0   0   0   0   1   2   4   7  11  17  23  31]\n",
      " [  0   0   0   0   0   0   0   0   0   0   0   0   1   2   3   6  11  17]\n",
      " [  0   0   0   0   0   0   0   0   0   0   0   0   0   0   0   1   2   5]\n",
      " [  0   0   0   0   0   0   0   0   0   0   0   0   0   0   0   0   0   0]\n",
      " [  0   0   0   0   0   0   0   0   0   0   0   0   0   0   0   0   0   0]\n",
      " [  0   0   0   0   0   0   0   0   0   0   0   0   0   0   0   0   0   0]\n",
      " [  0   0   0   0   0   0   0   0   0   0   0   0   0   0   0   0   0   0]\n",
      " [  0   0   0   0   0   0   0   0   0   0   0   0   0   0   0   0   0   0]\n",
      " [  0   0   0   0   0   0   0   0   0   0   0   0   0   0   0   0   0   0]\n",
      " [  0   0   0   0   0   0   0   0   0   0   0   0   0   0   0   0   0   0]\n",
      " [  0   0   0   0   0   0   0   0   0   0   0   0   0   0   0   0   0   0]\n",
      " [  0   0   0   0   0   0   0   0   0   0   0   0   0   0   0   0   0   0]]\n",
      "Final Price:  6.790679006593736\n"
     ]
    }
   ],
   "source": [
    "def CRR(n, S_0, K, sigma_a, T, contract_type):\n",
    "    '''\n",
    "    The Cox-Ross-Rubinstein Model\n",
    "    Please refer to https://en.wikipedia.org/wiki/Binomial_options_pricing_model\n",
    "    Inputs:\n",
    "        n: steps of the binomial tree\n",
    "        S_0: initial asset price\n",
    "        K: strike price\n",
    "        sigma_a: annualized volatility\n",
    "        T: strike time (in year)\n",
    "        contract_type: type of the contract (0 for call, 1 for put)\n",
    "    Returns:\n",
    "        S_tree: The binomial tree of the asset prices\n",
    "        C_tree: The binomial tree of the option prices\n",
    "    '''\n",
    "\n",
    "    # Step 1: Create the binomial price tree\n",
    "    dt = T/n\n",
    "    u = m.exp(sigma_a * m.sqrt(dt))\n",
    "    d = 1/u\n",
    "    # Following the risk neutral assumption, r = q\n",
    "    # p = (m.exp((r-q)dt)-d)/(u-d) = (m.exp(0)-d)/(u-d)\n",
    "    p = (m.exp(0)-d)/(u-d)\n",
    "    q = 1-p\n",
    "\n",
    "    S_tree = np.zeros((n+1, n+1))\n",
    "    C_tree = np.zeros((n+1, n+1))\n",
    "\n",
    "    # Step 1.5: Find the asset price for each node of the binomial price tree\n",
    "    tmp = np.zeros((2, n+1))\n",
    "    for j in range(n+1):\n",
    "        tmp[0, j] = S_0 * m.pow(d, j)\n",
    "        tmp[1, j] = S_0 * m.pow(u, j)\n",
    "    tot = np.unique(tmp)\n",
    "    c = n\n",
    "    for i in range(c+1):\n",
    "        for j in range(c+1):\n",
    "            S_tree[i, j-c-1] = tot[(n-i)+j]\n",
    "        c = c-1\n",
    "\n",
    "    # Step 2+3: Find the option value of each node\n",
    "    # starting from each final node\n",
    "    for j in range(n+1, 0, -1):\n",
    "        for i in range(j):\n",
    "            if (contract_type == 1):\n",
    "                if(j == n+1):\n",
    "                    C_tree[i, j-1] = max(K-S_tree[i, j-1], 0)\n",
    "                else:\n",
    "                    C_tree[i, j-1] = m.exp(-q*dt) * \\\n",
    "                        (p*C_tree[i, j] + (1-p)*C_tree[i+1, j])\n",
    "            if (contract_type == 0):\n",
    "                if (j == n + 1):\n",
    "                    C_tree[i, j-1] = max(S_tree[i, j-1]-K, 0)\n",
    "                else:\n",
    "                    C_tree[i, j-1] = m.exp(-q*dt) * \\\n",
    "                        (p*C_tree[i, j] + (1-p)*C_tree[i+1, j])\n",
    "\n",
    "    # where the final estimated option price is C_tree[0][0]\n",
    "    return S_tree, C_tree\n",
    "\n",
    "\n",
    "def price(n, S_0, K, sigma_a, T, contract_type):\n",
    "    _, C_tree = CRR(n, S_0, K, sigma_a, T, contract_type)\n",
    "    return C_tree[0][0]\n",
    "\n",
    "# Test\n",
    "\n",
    "# input\n",
    "S_0 = 100.0\n",
    "K = 100.0\n",
    "v = 0.3\n",
    "T = 20.0/36\n",
    "n = 17\n",
    "contract_type = 0\n",
    "\n",
    "# get all asset prices S_tree and option prices C_tree\n",
    "S_tree, C_tree = CRR(n, S_0, K, v, T, contract_type)\n",
    "print('Asset Prices:\\n', np.matrix(S_tree.astype(int)))\n",
    "print('Option Prices:\\n', np.matrix(C_tree.astype(int)))\n",
    "print('Final Price: ', price(n, S_0, K, v, T, contract_type))\n"
   ]
  },
  {
   "cell_type": "markdown",
   "metadata": {},
   "source": [
    "## Unfairness Analysis"
   ]
  },
  {
   "cell_type": "code",
   "execution_count": 5,
   "metadata": {},
   "outputs": [
    {
     "name": "stdout",
     "output_type": "stream",
     "text": [
      "eth-xlm 5.15%\n",
      "btc-eos 10.92%\n",
      "eth-eos 10.98%\n",
      "btc-xlm 4.06%\n",
      "eth-usd 93.22%\n",
      "btc-eth 4.15%\n",
      "btc-usd 22.79%\n",
      "btc-bnb 31.61%\n",
      "btc-ltc 9.52%\n",
      "eth-ltc 25.52%\n",
      "eth-bnb 40.39%\n",
      "eth-bch 15.81%\n",
      "eth-btc 33.03%\n",
      "btc-bch 6.03%\n",
      "eth-xrp 7.53%\n",
      "btc-xrp 6.19%\n"
     ]
    },
    {
     "data": {
      "text/plain": [
       "<Figure size 1152x1152 with 0 Axes>"
      ]
     },
     "metadata": {},
     "output_type": "display_data"
    }
   ],
   "source": [
    "exchange_rate_dir = Path('../../data/exchange-rate/')\n",
    "\n",
    "def get_coin_pairs():\n",
    "    pairs = []\n",
    "    for x in exchange_rate_dir.iterdir():\n",
    "        if x.is_file():\n",
    "            c1, c2 = parse('{}-{}.csv', x.name)\n",
    "            pairs.append([c1, c2])\n",
    "    return pairs\n",
    "\n",
    "\n",
    "def exchange_rate_csv_to_df(coin1, coin2):\n",
    "    filename = exchange_rate_dir / '{}-{}.csv'.format(\n",
    "        coin1, coin2)\n",
    "    df = pd.read_csv(filename,\n",
    "                     index_col=['datetime'],\n",
    "                     names=['datetime', 'price'])\n",
    "    df.index = pd.to_datetime(df.index, unit='ms')\n",
    "    df['price_pct_change'] = df['price'].pct_change()\n",
    "    return df\n",
    "\n",
    "\n",
    "def annualized_volatility(df):\n",
    "    daily_volatility = df['price_pct_change'].std()\n",
    "    annual_volatility = daily_volatility * np.sqrt(df['price'].size)\n",
    "    return annual_volatility\n",
    "\n",
    "\n",
    "def price_atomic_swap(alice_coin, bob_coin, bob_coin_amount):\n",
    "    # exchange rate of bob_coin / alice_coin\n",
    "    df = exchange_rate_csv_to_df(bob_coin, alice_coin)\n",
    "    sigma_a = annualized_volatility(df)\n",
    "\n",
    "#     print('Alice: {}, Bob: {}, Amount of alice_coin: {}, Amount of bob_coin: {}, sigma_a: {}, '.format(\n",
    "#         alice_coin, bob_coin, bob_coin_amount * df['price'][-1], bob_coin_amount, sigma_a), end='')\n",
    "\n",
    "    # money_in_alice_coin = bob_coin_amount * bob_coin / alice_coin\n",
    "    p = price(12, df['price'][0] * bob_coin_amount,\n",
    "              df['price'][0] * bob_coin_amount, sigma_a, 1.0, 0)\n",
    "\n",
    "#     print('Option price: {} alice_coin'.format(p))\n",
    "    return {\n",
    "        'alice_coin': alice_coin,\n",
    "        'bob_con': bob_coin,\n",
    "        'alice_coin_amount': bob_coin_amount * df['price'][-1],\n",
    "        'bob_coin_amount': bob_coin_amount,\n",
    "        'sigma_a': sigma_a,\n",
    "        'premium_in_alice_coin': p,\n",
    "        'percentage_premiun':  p / (bob_coin_amount * df['price'][-1])\n",
    "    }\n",
    "\n",
    "fig = plt.figure(figsize=(16, 16))\n",
    "pairs = get_coin_pairs()\n",
    "for pair in pairs:\n",
    "    c1, c2 = pair[0], pair[1]\n",
    "    res = price_atomic_swap(c2, c1, 1000)\n",
    "    print('{}-{} {:.2f}%'.format(c1, c2, res['percentage_premiun']*100))\n"
   ]
  },
  {
   "cell_type": "markdown",
   "metadata": {},
   "source": [
    "## Volatility Analysis"
   ]
  },
  {
   "cell_type": "code",
   "execution_count": 63,
   "metadata": {},
   "outputs": [
    {
     "data": {
      "image/png": "[encoded data removed]",
      "text/plain": [
       "<Figure size 432x288 with 1 Axes>"
      ]
     },
     "metadata": {
      "image/png": {
       "height": 235,
       "width": 377
      },
      "needs_background": "light"
     },
     "output_type": "display_data"
    }
   ],
   "source": [
    "def unfair_diagram():\n",
    "    fig, ax = plt.subplots(1)\n",
    "    ax.margins(0) # remove default margins (matplotlib verision 2+)\n",
    "    ax.add_patch(Rectangle((0, 0), 4, 4, color='lightcoral', label='Profit Area'))\n",
    "    ax.add_patch(Rectangle((0, -4), 4, 4, color='lightgreen', label='Risk Area'))\n",
    "    ax.plot([0, 5], [0, 0], 'black')\n",
    "    ax.plot([0, 0], [-4, 4], 'black')\n",
    "    ax.set_xlim([0, 4])\n",
    "    ax.set_ylim([-5, 5])\n",
    "    ax.set_ylabel('Exchange rate change (%)')\n",
    "    ax.set_xticks([])\n",
    "    ax.set_yticks([0])\n",
    "    plt.box(False)\n",
    "    plt.legend()\n",
    "#     plt.show()\n",
    "    plt.savefig('../../paper/figs/unfair_diagram.eps')\n",
    "    \n",
    "unfair_diagram()"
   ]
  },
  {
   "cell_type": "code",
   "execution_count": null,
   "metadata": {
    "scrolled": true
   },
   "outputs": [],
   "source": [
    "def get_volatility_series(c1, c2):\n",
    "    df = exchange_rate_csv_to_df(c1, c2)\n",
    "    volatility_series = df['price_pct_change']\n",
    "    return volatility_series\n",
    "\n",
    "def get_v_info(v_ser):\n",
    "    v_up, v_down = v_ser[lambda x: x>0], v_ser[lambda x: x<0]\n",
    "    return [v_up.min(), v_up.max(), v_up.mean(), v_down.min(), v_down.max(), v_down.mean()]\n",
    "\n",
    "fig, axes = plt.subplots(nrows=4, ncols=4, figsize=(25, 25))\n",
    "pairs = get_coin_pairs()\n",
    "# print(len(pairs)) 16\n",
    "for i, pair in enumerate(pairs):\n",
    "    x, y = int(i%4), int(i/4)\n",
    "    ax = axes[x, y]\n",
    "    c1, c2 = pair[0], pair[1]\n",
    "    v_ser = get_volatility_series(c1, c2)\n",
    "    v_info = get_v_info(v_ser)\n",
    "    \n",
    "    ax.plot(v_ser.astype('float').values)\n",
    "    ax.plot([0, 300], [v_info[2], v_info[2]], 'red', label='Average Profit = {:.2}'.format(v_info[2]))\n",
    "    ax.plot([0, 300], [0, 0], 'black', label='Zero')\n",
    "    ax.plot([0, 300], [v_info[5], v_info[5]], 'green', label='Average Risk = {:.2}'.format(v_info[5]))\n",
    "    \n",
    "    ax.set_ylabel('Volatility', fontsize=20)\n",
    "    ax.set_xlabel('Date', fontsize=20)\n",
    "    ax.xaxis.set_tick_params(labelsize=15)\n",
    "    ax.yaxis.set_tick_params(labelsize=15)\n",
    "\n",
    "    ax.set_title('{}-{}'.format(c1.upper(), c2.upper()), fontsize=25)\n",
    "    ax.legend(fontsize=15)\n",
    "\n",
    "plt.tight_layout()\n",
    "plt.savefig('../../paper/figs/volatility_analysis.eps')"
   ]
  },
  {
   "cell_type": "code",
   "execution_count": null,
   "metadata": {},
   "outputs": [],
   "source": []
  }
 ],
 "metadata": {
  "kernelspec": {
   "display_name": "Python 3",
   "language": "python",
   "name": "python3"
  },
  "language_info": {
   "codemirror_mode": {
    "name": "ipython",
    "version": 3
   },
   "file_extension": ".py",
   "mimetype": "text/x-python",
   "name": "python",
   "nbconvert_exporter": "python",
   "pygments_lexer": "ipython3",
   "version": "3.7.3"
  }
 },
 "nbformat": 4,
 "nbformat_minor": 2
}
